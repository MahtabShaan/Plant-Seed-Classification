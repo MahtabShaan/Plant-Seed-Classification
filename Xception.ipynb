{
 "cells": [
  {
   "cell_type": "code",
   "execution_count": 1,
   "metadata": {},
   "outputs": [
    {
     "name": "stderr",
     "output_type": "stream",
     "text": [
      "Using TensorFlow backend.\n"
     ]
    }
   ],
   "source": [
    "from keras import optimizers\n",
    "from keras.models import Sequential, Model\n",
    "from keras.layers import Dense, Dropout, Flatten\n",
    "from keras.layers import Conv2D, MaxPooling2D, BatchNormalization\n",
    "from keras.callbacks import EarlyStopping, ModelCheckpoint, ReduceLROnPlateau\n",
    "from keras.preprocessing.image import ImageDataGenerator\n",
    "from sklearn.model_selection import train_test_split\n",
    "from keras.applications import *"
   ]
  },
  {
   "cell_type": "code",
   "execution_count": 2,
   "metadata": {},
   "outputs": [
    {
     "name": "stdout",
     "output_type": "stream",
     "text": [
      "There are 12 total plant categories.\n",
      "There are 4750 total plant images.\n",
      "\n",
      "There are 3772 training plant images.\n",
      "There are 978 validation plant images.\n"
     ]
    }
   ],
   "source": [
    "from sklearn.datasets import load_files\n",
    "from keras.utils import np_utils\n",
    "import numpy as np\n",
    "from glob import glob\n",
    "\n",
    "def load_dataset(path):\n",
    "    data = load_files(path)\n",
    "    plant_files = np.array(data['filenames'])\n",
    "    plant_targets = np_utils.to_categorical(np.array(data['target']), 12)\n",
    "    return plant_files, plant_targets\n",
    "\n",
    "train_files, train_targets = load_dataset('C:/Users/Mahtab Noor Shaan/PycharmProjects/plant_seed_classification/new_train')\n",
    "valid_files, valid_targets = load_dataset('C:/Users/Mahtab Noor Shaan/PycharmProjects/plant_seed_classification/new_validation')\n",
    "#test_files, test_targets = load_dataset('C:/Users/Mahtab Noor Shaan/PycharmProjects/dog_breed_recognition/test')\n",
    "\n",
    "plant_names = [item[20:-1] for item in sorted(glob(\"C:/Users/Mahtab Noor Shaan/PycharmProjects/plant_seed_classification/new_train/*/\"))]\n",
    "\n",
    "# Let's check the dataset\n",
    "print('There are %d total plant categories.' % len(plant_names))\n",
    "print('There are %s total plant images.\\n' % len(np.hstack([train_files, valid_files])))\n",
    "print('There are %d training plant images.' % len(train_files))\n",
    "print('There are %d validation plant images.' % len(valid_files))"
   ]
  },
  {
   "cell_type": "code",
   "execution_count": 3,
   "metadata": {
    "collapsed": true
   },
   "outputs": [],
   "source": [
    "import numpy as np\n",
    "train_x_bf = np.load(open('train_x_bf_full_xception256.npy', 'rb'))\n",
    "valid_x_bf = np.load(open('valid_x_bf_full_xception256.npy', 'rb'))\n",
    "test_x_bf = np.load(open('test_x_bf_full_xception256.npy', 'rb'))"
   ]
  },
  {
   "cell_type": "code",
   "execution_count": 4,
   "metadata": {
    "collapsed": true
   },
   "outputs": [],
   "source": [
    "datagen = ImageDataGenerator( horizontal_flip=True, \n",
    "                              vertical_flip=True)"
   ]
  },
  {
   "cell_type": "code",
   "execution_count": 5,
   "metadata": {
    "collapsed": true
   },
   "outputs": [],
   "source": [
    "epochs = 100\n",
    "learning_rate = 0.0001\n",
    "batch_size = 32\n",
    "\n",
    "callbacks = [ EarlyStopping(monitor='val_loss', patience=5, verbose=0), \n",
    "              ModelCheckpoint(filepath='weights.best.xception.hdf5', monitor='val_loss', save_best_only=True, verbose=0),\n",
    "              ReduceLROnPlateau(monitor='val_loss', factor=0.1, patience=2, verbose=0, mode='auto', epsilon=0.0001, cooldown=0, min_lr=0)]"
   ]
  },
  {
   "cell_type": "code",
   "execution_count": 6,
   "metadata": {
    "collapsed": true
   },
   "outputs": [],
   "source": [
    "model = Sequential()\n",
    "model.add(Flatten(input_shape=train_x_bf.shape[1:]))\n",
    "model.add(Dense(256, activation='relu', ))\n",
    "model.add(BatchNormalization())\n",
    "model.add(Dropout(0.8))\n",
    "model.add(Dense(12, activation='softmax'))"
   ]
  },
  {
   "cell_type": "code",
   "execution_count": 7,
   "metadata": {
    "collapsed": true
   },
   "outputs": [],
   "source": [
    "model.compile(loss='categorical_crossentropy', optimizer=optimizers.Adam(lr=learning_rate), metrics=['accuracy'])"
   ]
  },
  {
   "cell_type": "code",
   "execution_count": 8,
   "metadata": {},
   "outputs": [
    {
     "name": "stderr",
     "output_type": "stream",
     "text": [
      "C:\\Users\\Mahtab Noor Shaan\\Anaconda3\\lib\\site-packages\\keras\\preprocessing\\image.py:855: UserWarning: NumpyArrayIterator is set to use the data format convention \"channels_last\" (channels on axis 3), i.e. expected either 1, 3 or 4 channels on axis 3. However, it was passed an array with shape (3772, 8, 8, 2048) (2048 channels).\n",
      "  ' (' + str(self.x.shape[channels_axis]) + ' channels).')\n",
      "C:\\Users\\Mahtab Noor Shaan\\Anaconda3\\lib\\site-packages\\keras\\preprocessing\\image.py:855: UserWarning: NumpyArrayIterator is set to use the data format convention \"channels_last\" (channels on axis 3), i.e. expected either 1, 3 or 4 channels on axis 3. However, it was passed an array with shape (978, 8, 8, 2048) (2048 channels).\n",
      "  ' (' + str(self.x.shape[channels_axis]) + ' channels).')\n"
     ]
    },
    {
     "name": "stdout",
     "output_type": "stream",
     "text": [
      "Epoch 1/100\n",
      " - 39s - loss: 2.3983 - acc: 0.3835 - val_loss: 1.1178 - val_acc: 0.6370\n",
      "Epoch 2/100\n",
      " - 36s - loss: 1.5572 - acc: 0.5531 - val_loss: 0.8985 - val_acc: 0.7188\n",
      "Epoch 3/100\n",
      " - 36s - loss: 1.2702 - acc: 0.6164 - val_loss: 0.7921 - val_acc: 0.7464\n",
      "Epoch 4/100\n",
      " - 36s - loss: 1.1190 - acc: 0.6536 - val_loss: 0.7546 - val_acc: 0.7628\n",
      "Epoch 5/100\n",
      " - 35s - loss: 0.9891 - acc: 0.7003 - val_loss: 0.6791 - val_acc: 0.7791\n",
      "Epoch 6/100\n",
      " - 36s - loss: 0.8994 - acc: 0.7135 - val_loss: 0.6460 - val_acc: 0.8016\n",
      "Epoch 7/100\n",
      " - 35s - loss: 0.7979 - acc: 0.7546 - val_loss: 0.6335 - val_acc: 0.7996\n",
      "Epoch 8/100\n",
      " - 31s - loss: 0.8074 - acc: 0.7484 - val_loss: 0.6370 - val_acc: 0.8016\n",
      "Epoch 9/100\n",
      " - 36s - loss: 0.7220 - acc: 0.7638 - val_loss: 0.6296 - val_acc: 0.7986\n",
      "Epoch 10/100\n",
      " - 35s - loss: 0.6493 - acc: 0.7972 - val_loss: 0.5861 - val_acc: 0.8108\n",
      "Epoch 11/100\n",
      " - 35s - loss: 0.6378 - acc: 0.7952 - val_loss: 0.5741 - val_acc: 0.8190\n",
      "Epoch 12/100\n",
      " - 34s - loss: 0.6117 - acc: 0.8065 - val_loss: 0.5514 - val_acc: 0.8190\n",
      "Epoch 13/100\n",
      " - 36s - loss: 0.5718 - acc: 0.8159 - val_loss: 0.5443 - val_acc: 0.8211\n",
      "Epoch 14/100\n",
      " - 31s - loss: 0.5277 - acc: 0.8335 - val_loss: 0.5584 - val_acc: 0.8180\n",
      "Epoch 15/100\n",
      " - 31s - loss: 0.5083 - acc: 0.8381 - val_loss: 0.5506 - val_acc: 0.8303\n",
      "Epoch 16/100\n",
      " - 31s - loss: 0.5002 - acc: 0.8393 - val_loss: 0.5473 - val_acc: 0.8313\n",
      "Epoch 17/100\n",
      " - 39s - loss: 0.4605 - acc: 0.8553 - val_loss: 0.5353 - val_acc: 0.8323\n",
      "Epoch 18/100\n",
      " - 36s - loss: 0.4302 - acc: 0.8663 - val_loss: 0.5292 - val_acc: 0.8405\n",
      "Epoch 19/100\n",
      " - 35s - loss: 0.4155 - acc: 0.8724 - val_loss: 0.5176 - val_acc: 0.8384\n",
      "Epoch 20/100\n",
      " - 35s - loss: 0.3902 - acc: 0.8794 - val_loss: 0.5079 - val_acc: 0.8456\n",
      "Epoch 21/100\n",
      " - 35s - loss: 0.4006 - acc: 0.8720 - val_loss: 0.5062 - val_acc: 0.8436\n",
      "Epoch 22/100\n",
      " - 31s - loss: 0.3840 - acc: 0.8740 - val_loss: 0.5185 - val_acc: 0.8344\n",
      "Epoch 23/100\n",
      " - 31s - loss: 0.3614 - acc: 0.8886 - val_loss: 0.5067 - val_acc: 0.8456\n",
      "Epoch 24/100\n",
      " - 31s - loss: 0.3647 - acc: 0.8813 - val_loss: 0.5092 - val_acc: 0.8384\n",
      "Epoch 25/100\n",
      " - 35s - loss: 0.3508 - acc: 0.8839 - val_loss: 0.5035 - val_acc: 0.8425\n",
      "Epoch 26/100\n",
      " - 31s - loss: 0.3587 - acc: 0.8895 - val_loss: 0.5073 - val_acc: 0.8415\n",
      "Epoch 27/100\n",
      " - 31s - loss: 0.3420 - acc: 0.8857 - val_loss: 0.5065 - val_acc: 0.8436\n",
      "Epoch 28/100\n",
      " - 35s - loss: 0.3452 - acc: 0.8889 - val_loss: 0.4992 - val_acc: 0.8456\n",
      "Epoch 29/100\n",
      " - 31s - loss: 0.3275 - acc: 0.8954 - val_loss: 0.5010 - val_acc: 0.8466\n",
      "Epoch 30/100\n",
      " - 31s - loss: 0.3547 - acc: 0.8887 - val_loss: 0.5124 - val_acc: 0.8405\n",
      "Epoch 31/100\n",
      " - 31s - loss: 0.3457 - acc: 0.8874 - val_loss: 0.4992 - val_acc: 0.8456\n",
      "Epoch 32/100\n",
      " - 35s - loss: 0.3514 - acc: 0.8918 - val_loss: 0.4966 - val_acc: 0.8466\n",
      "Epoch 33/100\n",
      " - 31s - loss: 0.3548 - acc: 0.8887 - val_loss: 0.5189 - val_acc: 0.8436\n",
      "Epoch 34/100\n",
      " - 31s - loss: 0.3324 - acc: 0.8951 - val_loss: 0.5072 - val_acc: 0.8425\n",
      "Epoch 35/100\n",
      " - 31s - loss: 0.3360 - acc: 0.8950 - val_loss: 0.5048 - val_acc: 0.8436\n",
      "Epoch 36/100\n",
      " - 35s - loss: 0.3397 - acc: 0.8926 - val_loss: 0.4966 - val_acc: 0.8456\n",
      "Epoch 37/100\n",
      " - 31s - loss: 0.3541 - acc: 0.8877 - val_loss: 0.5029 - val_acc: 0.8456\n",
      "Epoch 38/100\n",
      " - 31s - loss: 0.3531 - acc: 0.8887 - val_loss: 0.5005 - val_acc: 0.8497\n",
      "Epoch 39/100\n",
      " - 31s - loss: 0.3434 - acc: 0.8889 - val_loss: 0.5060 - val_acc: 0.8446\n",
      "Epoch 40/100\n",
      " - 31s - loss: 0.3492 - acc: 0.8929 - val_loss: 0.5044 - val_acc: 0.8466\n",
      "Epoch 41/100\n",
      " - 35s - loss: 0.3398 - acc: 0.8931 - val_loss: 0.4938 - val_acc: 0.8487\n",
      "Epoch 42/100\n",
      " - 31s - loss: 0.3624 - acc: 0.8805 - val_loss: 0.5083 - val_acc: 0.8456\n",
      "Epoch 43/100\n",
      " - 31s - loss: 0.3471 - acc: 0.8902 - val_loss: 0.5046 - val_acc: 0.8446\n",
      "Epoch 44/100\n",
      " - 31s - loss: 0.3490 - acc: 0.8900 - val_loss: 0.5025 - val_acc: 0.8446\n",
      "Epoch 45/100\n",
      " - 31s - loss: 0.3640 - acc: 0.8831 - val_loss: 0.5060 - val_acc: 0.8476\n",
      "Epoch 46/100\n",
      " - 31s - loss: 0.3623 - acc: 0.8865 - val_loss: 0.5049 - val_acc: 0.8436\n"
     ]
    }
   ],
   "source": [
    "history = model.fit_generator(datagen.flow(train_x_bf, train_targets, batch_size=batch_size),\n",
    "                    steps_per_epoch=len(train_x_bf)/batch_size, \n",
    "                    validation_data=datagen.flow(valid_x_bf, valid_targets, batch_size=batch_size), \n",
    "                    validation_steps=len(valid_x_bf)/batch_size,\n",
    "                    callbacks=callbacks,\n",
    "                    epochs=epochs, \n",
    "                    verbose=2)"
   ]
  },
  {
   "cell_type": "code",
   "execution_count": 9,
   "metadata": {
    "collapsed": true
   },
   "outputs": [],
   "source": [
    "model.load_weights('weights.best.xception.hdf5')\n",
    "predicted = model.predict(test_x_bf)"
   ]
  },
  {
   "cell_type": "code",
   "execution_count": 10,
   "metadata": {},
   "outputs": [
    {
     "data": {
      "text/plain": [
       "(794, 12)"
      ]
     },
     "execution_count": 10,
     "metadata": {},
     "output_type": "execute_result"
    }
   ],
   "source": [
    "predicted.shape"
   ]
  },
  {
   "cell_type": "code",
   "execution_count": 11,
   "metadata": {
    "collapsed": true
   },
   "outputs": [],
   "source": [
    "label_map = {   \"Black-grass\"               :0,\n",
    "                \"Charlock\"                  :1,\n",
    "                \"Cleavers\"                  :2,\n",
    "                \"Common Chickweed\"          :3,\n",
    "                \"Common wheat\"              :4,\n",
    "                \"Fat Hen\"                   :5,\n",
    "                \"Loose Silky-bent\"          :6,\n",
    "                \"Maize\"                     :7,\n",
    "                \"Scentless Mayweed\"         :8,\n",
    "                \"Shepherds Purse\"           :9,\n",
    "                \"Small-flowered Cranesbill\" :10,\n",
    "                \"Sugar beet\"                :11}"
   ]
  },
  {
   "cell_type": "code",
   "execution_count": 12,
   "metadata": {
    "collapsed": true
   },
   "outputs": [],
   "source": [
    "import pandas as pd\n",
    "df_test = pd.read_csv('sample_submission.csv')"
   ]
  },
  {
   "cell_type": "code",
   "execution_count": 13,
   "metadata": {
    "collapsed": true
   },
   "outputs": [],
   "source": [
    "preds = []\n",
    "for i in range(len(predicted)):\n",
    "    pos = np.argmax(predicted[i])\n",
    "    preds.append(list(label_map.keys())[list(label_map.values()).index(pos)])\n",
    "    \n",
    "df_test['species'] = preds\n",
    "df_test.to_csv('submission_xception.csv', index=False)"
   ]
  },
  {
   "cell_type": "code",
   "execution_count": null,
   "metadata": {
    "collapsed": true
   },
   "outputs": [],
   "source": []
  }
 ],
 "metadata": {
  "kernelspec": {
   "display_name": "Python 3",
   "language": "python",
   "name": "python3"
  },
  "language_info": {
   "codemirror_mode": {
    "name": "ipython",
    "version": 3
   },
   "file_extension": ".py",
   "mimetype": "text/x-python",
   "name": "python",
   "nbconvert_exporter": "python",
   "pygments_lexer": "ipython3",
   "version": "3.6.1"
  }
 },
 "nbformat": 4,
 "nbformat_minor": 2
}
