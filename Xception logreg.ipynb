{
 "cells": [
  {
   "cell_type": "code",
   "execution_count": 1,
   "metadata": {},
   "outputs": [
    {
     "name": "stderr",
     "output_type": "stream",
     "text": [
      "Using TensorFlow backend.\n"
     ]
    }
   ],
   "source": [
    "from keras import optimizers\n",
    "from keras.models import Sequential, Model\n",
    "from keras.layers import Dense, Dropout, Flatten\n",
    "from keras.layers import Conv2D, MaxPooling2D, BatchNormalization\n",
    "from keras.callbacks import EarlyStopping, ModelCheckpoint, ReduceLROnPlateau\n",
    "from keras.preprocessing.image import ImageDataGenerator\n",
    "from sklearn.model_selection import train_test_split\n",
    "from keras.applications import *"
   ]
  },
  {
   "cell_type": "code",
   "execution_count": 2,
   "metadata": {},
   "outputs": [
    {
     "name": "stdout",
     "output_type": "stream",
     "text": [
      "There are 12 total plant categories.\n",
      "There are 4750 total plant images.\n",
      "\n",
      "There are 3772 training plant images.\n",
      "There are 978 validation plant images.\n"
     ]
    }
   ],
   "source": [
    "from sklearn.datasets import load_files\n",
    "from keras.utils import np_utils\n",
    "import numpy as np\n",
    "from glob import glob\n",
    "\n",
    "def load_dataset(path):\n",
    "    data = load_files(path)\n",
    "    plant_files = np.array(data['filenames'])\n",
    "    plant_targets = np_utils.to_categorical(np.array(data['target']), 12)\n",
    "    return plant_files, plant_targets\n",
    "\n",
    "train_files, train_targets = load_dataset('C:/Users/Mahtab Noor Shaan/PycharmProjects/plant_seed_classification/new_train')\n",
    "valid_files, valid_targets = load_dataset('C:/Users/Mahtab Noor Shaan/PycharmProjects/plant_seed_classification/new_validation')\n",
    "#test_files, test_targets = load_dataset('C:/Users/Mahtab Noor Shaan/PycharmProjects/dog_breed_recognition/test')\n",
    "\n",
    "plant_names = [item[20:-1] for item in sorted(glob(\"C:/Users/Mahtab Noor Shaan/PycharmProjects/plant_seed_classification/new_train/*/\"))]\n",
    "\n",
    "# Let's check the dataset\n",
    "print('There are %d total plant categories.' % len(plant_names))\n",
    "print('There are %s total plant images.\\n' % len(np.hstack([train_files, valid_files])))\n",
    "print('There are %d training plant images.' % len(train_files))\n",
    "print('There are %d validation plant images.' % len(valid_files))"
   ]
  },
  {
   "cell_type": "code",
   "execution_count": 3,
   "metadata": {
    "collapsed": true
   },
   "outputs": [],
   "source": [
    "import numpy as np\n",
    "train_x_bf = np.load(open('train_x_bf_fullavg_xception256.npy', 'rb'))\n",
    "valid_x_bf = np.load(open('valid_x_bf_fullavg_xception256.npy', 'rb'))\n",
    "test_x_bf = np.load(open('test_x_bf_fullavg_xception256.npy', 'rb'))"
   ]
  },
  {
   "cell_type": "code",
   "execution_count": 5,
   "metadata": {
    "collapsed": true
   },
   "outputs": [],
   "source": [
    "from sklearn.linear_model import LogisticRegression\n",
    "from sklearn.metrics import log_loss, accuracy_score\n",
    "NUM_CLASSES = 12"
   ]
  },
  {
   "cell_type": "code",
   "execution_count": 8,
   "metadata": {},
   "outputs": [
    {
     "name": "stdout",
     "output_type": "stream",
     "text": [
      "Validation Xception LogLoss 0.508464418536276\n",
      "Validation Xception Accuracy 0.8394683026584867\n"
     ]
    }
   ],
   "source": [
    "logreg = LogisticRegression(multi_class='multinomial', solver='lbfgs', random_state=42)\n",
    "logreg.fit(train_x_bf, (train_targets * range(NUM_CLASSES)).sum(axis=1))\n",
    "valid_probs = logreg.predict_proba(valid_x_bf)\n",
    "valid_preds = logreg.predict(valid_x_bf)\n",
    "print('Validation Xception LogLoss {}'.format(log_loss(valid_targets, valid_probs)))\n",
    "print('Validation Xception Accuracy {}'.format(accuracy_score((valid_targets * range(NUM_CLASSES)).sum(axis=1), valid_preds)))"
   ]
  },
  {
   "cell_type": "code",
   "execution_count": 9,
   "metadata": {
    "collapsed": true
   },
   "outputs": [],
   "source": [
    "from sklearn import svm"
   ]
  },
  {
   "cell_type": "code",
   "execution_count": 10,
   "metadata": {},
   "outputs": [
    {
     "name": "stdout",
     "output_type": "stream",
     "text": [
      "Validation Xception Accuracy 0.5777096114519428\n"
     ]
    }
   ],
   "source": [
    "svm = svm.SVC()\n",
    "svm.fit(train_x_bf, (train_targets * range(NUM_CLASSES)).sum(axis=1))\n",
    "#valid_probs = logreg.predict_proba(valid_x_bf)\n",
    "valid_preds = svm.predict(valid_x_bf)\n",
    "#print('Validation Xception LogLoss {}'.format(log_loss(valid_targets, valid_probs)))\n",
    "print('Validation Xception Accuracy {}'.format(accuracy_score((valid_targets * range(NUM_CLASSES)).sum(axis=1), valid_preds)))"
   ]
  },
  {
   "cell_type": "code",
   "execution_count": null,
   "metadata": {
    "collapsed": true
   },
   "outputs": [],
   "source": []
  }
 ],
 "metadata": {
  "kernelspec": {
   "display_name": "Python 3",
   "language": "python",
   "name": "python3"
  },
  "language_info": {
   "codemirror_mode": {
    "name": "ipython",
    "version": 3
   },
   "file_extension": ".py",
   "mimetype": "text/x-python",
   "name": "python",
   "nbconvert_exporter": "python",
   "pygments_lexer": "ipython3",
   "version": "3.6.1"
  }
 },
 "nbformat": 4,
 "nbformat_minor": 2
}
